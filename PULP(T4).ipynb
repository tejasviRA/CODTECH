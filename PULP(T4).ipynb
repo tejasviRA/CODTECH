{
  "nbformat": 4,
  "nbformat_minor": 0,
  "metadata": {
    "colab": {
      "provenance": []
    },
    "kernelspec": {
      "name": "python3",
      "display_name": "Python 3"
    },
    "language_info": {
      "name": "python"
    }
  },
  "cells": [
    {
      "cell_type": "markdown",
      "source": [
        "SOLVE A BUSINESS PROBLEM USING\n",
        "OPTIMIZATION TECHNIQUES (E.G., LINEAR\n",
        "PROGRAMMING) AND PYTHON LIBRARIES\n",
        "LIKE PULP"
      ],
      "metadata": {
        "id": "3qTBUOHB2w_r"
      }
    },
    {
      "cell_type": "code",
      "source": [
        "pip install pulp"
      ],
      "metadata": {
        "colab": {
          "base_uri": "https://localhost:8080/"
        },
        "id": "Z2RXAULSDPqc",
        "outputId": "9bd51ea8-1145-4fcb-f46d-e9e824fded2b"
      },
      "execution_count": null,
      "outputs": [
        {
          "output_type": "stream",
          "name": "stdout",
          "text": [
            "Collecting pulp\n",
            "  Downloading PuLP-2.9.0-py3-none-any.whl.metadata (5.4 kB)\n",
            "Downloading PuLP-2.9.0-py3-none-any.whl (17.7 MB)\n",
            "\u001b[2K   \u001b[90m━━━━━━━━━━━━━━━━━━━━━━━━━━━━━━━━━━━━━━━━\u001b[0m \u001b[32m17.7/17.7 MB\u001b[0m \u001b[31m43.6 MB/s\u001b[0m eta \u001b[36m0:00:00\u001b[0m\n",
            "\u001b[?25hInstalling collected packages: pulp\n",
            "Successfully installed pulp-2.9.0\n"
          ]
        }
      ]
    },
    {
      "cell_type": "code",
      "execution_count": null,
      "metadata": {
        "id": "6YLiTKja15Pr",
        "colab": {
          "base_uri": "https://localhost:8080/"
        },
        "outputId": "d3ccf151-4e2a-4ccd-f9fe-4b59c183906f"
      },
      "outputs": [
        {
          "output_type": "stream",
          "name": "stdout",
          "text": [
            "Status: Optimal\n",
            "Produce 0.0 units of Product A\n",
            "Produce 200.0 units of Product B\n",
            "Total Profit: $10000.0\n"
          ]
        }
      ],
      "source": [
        "# Create a Linear Program to maximize the profit\n",
        "lp = pulp.LpProblem(\"Maximize_Profit\", pulp.LpMaximize)\n",
        "\n",
        "# Decision Variables\n",
        "x = pulp.LpVariable('x', lowBound=0, cat='Continuous')  # Product A\n",
        "y = pulp.LpVariable('y', lowBound=0, cat='Continuous')  # Product B\n",
        "\n",
        "# Objective Function\n",
        "lp += 30 * x + 50 * y  # Maximize profit: 30x + 50y\n",
        "\n",
        "# Constraints with the additional production limit\n",
        "lp += 2 * x + 4 * y <= 1200  # Labor hours constraint\n",
        "lp += 3 * x + 5 * y <= 1000  # Raw material constraint\n",
        "lp += x + y <= 400  # Total units production limit\n",
        "\n",
        "# Solve the problem\n",
        "lp.solve()\n",
        "\n",
        "# Output the results\n",
        "print(f\"Status: {pulp.LpStatus[lp.status]}\")\n",
        "print(f\"Produce {x.varValue} units of Product A\")\n",
        "print(f\"Produce {y.varValue} units of Product B\")\n",
        "print(f\"Total Profit: ${pulp.value(lp.objective)}\")\n"
      ]
    }
  ]
}